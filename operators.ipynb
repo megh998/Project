{
 "cells": [
  {
   "cell_type": "markdown",
   "id": "ab6c2410-d9bb-4368-b972-34673600ffc0",
   "metadata": {},
   "source": [
    "# Arithemetic Operators\n"
   ]
  },
  {
   "cell_type": "code",
   "execution_count": 1,
   "id": "4a97cd30-c8a3-45ae-b9ad-20c0a62b9ed3",
   "metadata": {},
   "outputs": [
    {
     "data": {
      "text/plain": [
       "3"
      ]
     },
     "execution_count": 1,
     "metadata": {},
     "output_type": "execute_result"
    }
   ],
   "source": [
    "2+1"
   ]
  },
  {
   "cell_type": "code",
   "execution_count": 3,
   "id": "70b80f9e-fa80-4eef-b480-23f288c859c5",
   "metadata": {},
   "outputs": [
    {
     "data": {
      "text/plain": [
       "12"
      ]
     },
     "execution_count": 3,
     "metadata": {},
     "output_type": "execute_result"
    }
   ],
   "source": [
    "3*4"
   ]
  },
  {
   "cell_type": "code",
   "execution_count": 4,
   "id": "85a27eea-b490-4ad1-91f9-3fc93ce9d565",
   "metadata": {},
   "outputs": [
    {
     "data": {
      "text/plain": [
       "1"
      ]
     },
     "execution_count": 4,
     "metadata": {},
     "output_type": "execute_result"
    }
   ],
   "source": [
    "21%2"
   ]
  },
  {
   "cell_type": "markdown",
   "id": "a5bccc2b-17a6-4110-9985-31e5f844c535",
   "metadata": {},
   "source": [
    "# arithemetic string operators"
   ]
  },
  {
   "cell_type": "code",
   "execution_count": null,
   "id": "bc2f943c-b38d-4d3b-bf1c-39a705eb86f3",
   "metadata": {},
   "outputs": [],
   "source": []
  }
 ],
 "metadata": {
  "kernelspec": {
   "display_name": "Python 3 (ipykernel)",
   "language": "python",
   "name": "python3"
  },
  "language_info": {
   "codemirror_mode": {
    "name": "ipython",
    "version": 3
   },
   "file_extension": ".py",
   "mimetype": "text/x-python",
   "name": "python",
   "nbconvert_exporter": "python",
   "pygments_lexer": "ipython3",
   "version": "3.12.4"
  }
 },
 "nbformat": 4,
 "nbformat_minor": 5
}
