{
 "cells": [
  {
   "cell_type": "markdown",
   "id": "ab6c2410-d9bb-4368-b972-34673600ffc0",
   "metadata": {},
   "source": [
    "# Arithemetic Operators\n"
   ]
  },
  {
   "cell_type": "code",
   "execution_count": 1,
   "id": "4a97cd30-c8a3-45ae-b9ad-20c0a62b9ed3",
   "metadata": {},
   "outputs": [
    {
     "data": {
      "text/plain": [
       "3"
      ]
     },
     "execution_count": 1,
     "metadata": {},
     "output_type": "execute_result"
    }
   ],
   "source": [
    "2+1"
   ]
  },
  {
   "cell_type": "code",
   "execution_count": 3,
   "id": "70b80f9e-fa80-4eef-b480-23f288c859c5",
   "metadata": {},
   "outputs": [
    {
     "data": {
      "text/plain": [
       "12"
      ]
     },
     "execution_count": 3,
     "metadata": {},
     "output_type": "execute_result"
    }
   ],
   "source": [
    "3*4"
   ]
  },
  {
   "cell_type": "code",
   "execution_count": 4,
   "id": "85a27eea-b490-4ad1-91f9-3fc93ce9d565",
   "metadata": {},
   "outputs": [
    {
     "data": {
      "text/plain": [
       "1"
      ]
     },
     "execution_count": 4,
     "metadata": {},
     "output_type": "execute_result"
    }
   ],
   "source": [
    "21%2"
   ]
  },
  {
   "cell_type": "markdown",
   "id": "a5bccc2b-17a6-4110-9985-31e5f844c535",
   "metadata": {},
   "source": [
    "# arithemetic string operators"
   ]
  },
  {
   "cell_type": "code",
   "execution_count": 5,
   "id": "bc2f943c-b38d-4d3b-bf1c-39a705eb86f3",
   "metadata": {},
   "outputs": [
    {
     "data": {
      "text/plain": [
       "'str1str2'"
      ]
     },
     "execution_count": 5,
     "metadata": {},
     "output_type": "execute_result"
    }
   ],
   "source": [
    "'str1'+'str2'"
   ]
  },
  {
   "cell_type": "code",
   "execution_count": 6,
   "id": "f0f35b3e-4d99-4596-968e-ccca2eb00e89",
   "metadata": {},
   "outputs": [
    {
     "data": {
      "text/plain": [
       "'str1-str1-str1-str1-str1-'"
      ]
     },
     "execution_count": 6,
     "metadata": {},
     "output_type": "execute_result"
    }
   ],
   "source": [
    "'str1-'*5"
   ]
  },
  {
   "cell_type": "markdown",
   "id": "175691bf-a2a9-4ea3-97d2-74f297c344cd",
   "metadata": {},
   "source": [
    "\n",
    "# comparision operator"
   ]
  },
  {
   "cell_type": "code",
   "execution_count": 8,
   "id": "37c485ab-1f6b-4a08-a1fd-b6a471ee1be9",
   "metadata": {},
   "outputs": [
    {
     "data": {
      "text/plain": [
       "True"
      ]
     },
     "execution_count": 8,
     "metadata": {},
     "output_type": "execute_result"
    }
   ],
   "source": [
    "1==1"
   ]
  },
  {
   "cell_type": "code",
   "execution_count": 9,
   "id": "e7735707-87b5-4fd4-be23-f60fcdd8d972",
   "metadata": {},
   "outputs": [
    {
     "data": {
      "text/plain": [
       "False"
      ]
     },
     "execution_count": 9,
     "metadata": {},
     "output_type": "execute_result"
    }
   ],
   "source": [
    "1==2"
   ]
  },
  {
   "cell_type": "code",
   "execution_count": 10,
   "id": "3b9a7823-833e-4109-a4c5-6bc951b51d41",
   "metadata": {},
   "outputs": [
    {
     "data": {
      "text/plain": [
       "False"
      ]
     },
     "execution_count": 10,
     "metadata": {},
     "output_type": "execute_result"
    }
   ],
   "source": [
    "1>4"
   ]
  },
  {
   "cell_type": "markdown",
   "id": "263a4d71-7d31-44ef-a9fd-1f20e34854c7",
   "metadata": {},
   "source": [
    "# comparision operator"
   ]
  },
  {
   "cell_type": "code",
   "execution_count": 15,
   "id": "879d1034-2e07-4cfc-bf95-c8d3230098f9",
   "metadata": {},
   "outputs": [
    {
     "data": {
      "text/plain": [
       "False"
      ]
     },
     "execution_count": 15,
     "metadata": {},
     "output_type": "execute_result"
    }
   ],
   "source": [
    "False and True"
   ]
  },
  {
   "cell_type": "code",
   "execution_count": 16,
   "id": "9c39346f-5588-4449-8041-fd69809cbc6d",
   "metadata": {},
   "outputs": [
    {
     "data": {
      "text/plain": [
       "False"
      ]
     },
     "execution_count": 16,
     "metadata": {},
     "output_type": "execute_result"
    }
   ],
   "source": [
    "False and False"
   ]
  },
  {
   "cell_type": "code",
   "execution_count": 17,
   "id": "34ba1b60-a23b-443f-a298-1a6532f72b47",
   "metadata": {},
   "outputs": [
    {
     "data": {
      "text/plain": [
       "True"
      ]
     },
     "execution_count": 17,
     "metadata": {},
     "output_type": "execute_result"
    }
   ],
   "source": [
    "False or True"
   ]
  },
  {
   "cell_type": "code",
   "execution_count": 18,
   "id": "025bc4b9-2076-4563-abc0-737ea3f142aa",
   "metadata": {},
   "outputs": [
    {
     "data": {
      "text/plain": [
       "True"
      ]
     },
     "execution_count": 18,
     "metadata": {},
     "output_type": "execute_result"
    }
   ],
   "source": [
    "False or True"
   ]
  },
  {
   "cell_type": "code",
   "execution_count": 19,
   "id": "e4c84c42-5b19-45b6-8608-9076784b78aa",
   "metadata": {},
   "outputs": [
    {
     "data": {
      "text/plain": [
       "False"
      ]
     },
     "execution_count": 19,
     "metadata": {},
     "output_type": "execute_result"
    }
   ],
   "source": [
    " not True"
   ]
  },
  {
   "cell_type": "markdown",
   "id": "ddf2097a-34f0-47ad-a499-65714ce093e0",
   "metadata": {},
   "source": [
    "# membership operator"
   ]
  },
  {
   "cell_type": "code",
   "execution_count": 20,
   "id": "8c83605a-7915-4f3c-9b65-d34023630023",
   "metadata": {},
   "outputs": [
    {
     "data": {
      "text/plain": [
       "True"
      ]
     },
     "execution_count": 20,
     "metadata": {},
     "output_type": "execute_result"
    }
   ],
   "source": [
    "1 in [3,2,1]   "
   ]
  },
  {
   "cell_type": "code",
   "execution_count": 22,
   "id": "b577e3e2-2254-4026-a672-18b4028410d1",
   "metadata": {},
   "outputs": [
    {
     "data": {
      "text/plain": [
       "True"
      ]
     },
     "execution_count": 22,
     "metadata": {},
     "output_type": "execute_result"
    }
   ],
   "source": [
    "'rat' in \"rat trap\""
   ]
  },
  {
   "cell_type": "code",
   "execution_count": null,
   "id": "8b075998-2e12-4f3e-80ab-8fc7e0c5028d",
   "metadata": {},
   "outputs": [],
   "source": []
  }
 ],
 "metadata": {
  "kernelspec": {
   "display_name": "Python 3 (ipykernel)",
   "language": "python",
   "name": "python3"
  },
  "language_info": {
   "codemirror_mode": {
    "name": "ipython",
    "version": 3
   },
   "file_extension": ".py",
   "mimetype": "text/x-python",
   "name": "python",
   "nbconvert_exporter": "python",
   "pygments_lexer": "ipython3",
   "version": "3.12.4"
  }
 },
 "nbformat": 4,
 "nbformat_minor": 5
}
