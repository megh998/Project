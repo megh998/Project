{
 "cells": [
  {
   "cell_type": "markdown",
   "id": "83aa4dbf-859e-4631-a5ff-9e13037d42df",
   "metadata": {},
   "source": [
    "# if , else statement"
   ]
  },
  {
   "cell_type": "code",
   "execution_count": 11,
   "id": "f776fa1f-ea16-459a-8fc4-f3b31cb7fba4",
   "metadata": {},
   "outputs": [
    {
     "name": "stdout",
     "output_type": "stream",
     "text": [
      "its true\n"
     ]
    }
   ],
   "source": [
    "a = True\n",
    "if a:\n",
    "    print ('its true')\n",
    "else:\n",
    "    print ('false')\n",
    "\n"
   ]
  },
  {
   "cell_type": "code",
   "execution_count": 16,
   "id": "ac9c1a64-29b5-4f5e-b411-d289569f5ae6",
   "metadata": {},
   "outputs": [
    {
     "name": "stdout",
     "output_type": "stream",
     "text": [
      "false\n"
     ]
    }
   ],
   "source": [
    "a=200\n",
    "b=300\n",
    "if a>b:\n",
    "    Print('true')\n",
    "else:\n",
    "    print('false')"
   ]
  },
  {
   "cell_type": "code",
   "execution_count": 21,
   "id": "fa8941c0-9738-4843-8601-5a0a17cb7284",
   "metadata": {},
   "outputs": [
    {
     "name": "stdout",
     "output_type": "stream",
     "text": [
      "nothing\n"
     ]
    }
   ],
   "source": [
    "a=400\n",
    "b=4000\n",
    "if a>b:\n",
    "    print ('a')\n",
    "elif a<b:\n",
    "    print('b')\n",
    "    c=500\n",
    "    if b>c:\n",
    "        print('b>c')\n",
    "else:\n",
    "    print('nothing')\n",
    "    "
   ]
  },
  {
   "cell_type": "markdown",
   "id": "350899ad-0f1a-4ab6-bb2b-f7f2de5f5a2d",
   "metadata": {},
   "source": [
    "# while"
   ]
  },
  {
   "cell_type": "code",
   "execution_count": 26,
   "id": "b663ba82-56bb-4ade-8a8a-6c3a66f1f8ed",
   "metadata": {},
   "outputs": [
    {
     "name": "stdout",
     "output_type": "stream",
     "text": [
      "0\n",
      "1\n",
      "2\n",
      "3\n",
      "4\n"
     ]
    }
   ],
   "source": [
    "i=0;\n",
    "while i<5:\n",
    "    print (i)\n",
    "    i=i+1"
   ]
  },
  {
   "cell_type": "code",
   "execution_count": 2,
   "id": "3a2e4906-2d65-4f2a-9d55-cfa44d60c250",
   "metadata": {},
   "outputs": [
    {
     "name": "stdout",
     "output_type": "stream",
     "text": [
      "the output is5\n",
      "the output is5.5\n",
      "the output is6.0\n",
      "the output is6.5\n",
      "the output is7.0\n",
      "the output is7.5\n",
      "the output is8.0\n",
      "the output is8.5\n",
      "the output is9.0\n",
      "the output is9.5\n"
     ]
    }
   ],
   "source": [
    "i=5\n",
    "while i<10:\n",
    "    print('the output is'+ str(i))\n",
    "    i=i+0.5"
   ]
  },
  {
   "cell_type": "code",
   "execution_count": 3,
   "id": "b85113f5-a53c-470a-84e5-5ccbec454a6d",
   "metadata": {},
   "outputs": [
    {
     "data": {
      "text/plain": [
       "float"
      ]
     },
     "execution_count": 3,
     "metadata": {},
     "output_type": "execute_result"
    }
   ],
   "source": [
    "type(i)"
   ]
  },
  {
   "cell_type": "code",
   "execution_count": 12,
   "id": "a0fe00fd-b68d-4b06-adeb-b73a9d7b299e",
   "metadata": {},
   "outputs": [
    {
     "name": "stdout",
     "output_type": "stream",
     "text": [
      "a\n",
      "p\n",
      "p\n",
      "l\n",
      "e\n"
     ]
    }
   ],
   "source": [
    "for x in \"apple\":\n",
    "    print (x)"
   ]
  },
  {
   "cell_type": "code",
   "execution_count": 13,
   "id": "ddc2952c-f257-4b6e-af99-71c2a2b65030",
   "metadata": {},
   "outputs": [
    {
     "name": "stdout",
     "output_type": "stream",
     "text": [
      "passat\n",
      "kia\n",
      "ford\n",
      "kona\n"
     ]
    }
   ],
   "source": [
    "cars=['passat','kia','ford','kona']\n",
    "for x in cars:\n",
    "    print (x)"
   ]
  },
  {
   "cell_type": "code",
   "execution_count": 29,
   "id": "ed1dc324-4d7f-40b0-88a9-c6f94522ff26",
   "metadata": {},
   "outputs": [
    {
     "name": "stdout",
     "output_type": "stream",
     "text": [
      "honda\n",
      "yamaha\n",
      "hero\n"
     ]
    }
   ],
   "source": [
    "bikes=['honda','yamaha','hero','tvs']\n",
    "for j in bikes:\n",
    "    print(j)\n",
    "    if j=='hero':\n",
    "        break\n"
   ]
  },
  {
   "cell_type": "code",
   "execution_count": 21,
   "id": "1001dfab-3c22-4166-84bc-694b2eb9abea",
   "metadata": {},
   "outputs": [
    {
     "name": "stdout",
     "output_type": "stream",
     "text": [
      "0\n",
      "1\n",
      "2\n"
     ]
    }
   ],
   "source": [
    "for x in range(6):\n",
    "  if x == 3: break\n",
    "  print(x)\n",
    "else:\n",
    "  print(\"Finally finished!\")\n"
   ]
  },
  {
   "cell_type": "code",
   "execution_count": 22,
   "id": "1fb1fb0d-54c3-428d-b873-49871ab30f55",
   "metadata": {},
   "outputs": [
    {
     "name": "stdout",
     "output_type": "stream",
     "text": [
      "apple\n",
      "banana\n"
     ]
    }
   ],
   "source": [
    "fruits = [\"apple\", \"banana\", \"cherry\"]\n",
    "for x in fruits:\n",
    "  print(x)\n",
    "  if x == \"banana\":\n",
    "    break"
   ]
  },
  {
   "cell_type": "code",
   "execution_count": null,
   "id": "a4bf90af-5edb-4286-bb57-f478675b775d",
   "metadata": {},
   "outputs": [],
   "source": []
  }
 ],
 "metadata": {
  "kernelspec": {
   "display_name": "Python 3 (ipykernel)",
   "language": "python",
   "name": "python3"
  },
  "language_info": {
   "codemirror_mode": {
    "name": "ipython",
    "version": 3
   },
   "file_extension": ".py",
   "mimetype": "text/x-python",
   "name": "python",
   "nbconvert_exporter": "python",
   "pygments_lexer": "ipython3",
   "version": "3.12.4"
  }
 },
 "nbformat": 4,
 "nbformat_minor": 5
}
