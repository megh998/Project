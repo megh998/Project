{
 "cells": [
  {
   "cell_type": "markdown",
   "id": "83aa4dbf-859e-4631-a5ff-9e13037d42df",
   "metadata": {},
   "source": [
    "# if , else statement"
   ]
  },
  {
   "cell_type": "code",
   "execution_count": 11,
   "id": "f776fa1f-ea16-459a-8fc4-f3b31cb7fba4",
   "metadata": {},
   "outputs": [
    {
     "name": "stdout",
     "output_type": "stream",
     "text": [
      "its true\n"
     ]
    }
   ],
   "source": [
    "a = True\n",
    "if a:\n",
    "    print ('its true')\n",
    "else:\n",
    "    print ('false')\n",
    "\n"
   ]
  },
  {
   "cell_type": "code",
   "execution_count": 13,
   "id": "ac9c1a64-29b5-4f5e-b411-d289569f5ae6",
   "metadata": {},
   "outputs": [
    {
     "ename": "SyntaxError",
     "evalue": "incomplete input (2456030537.py, line 4)",
     "output_type": "error",
     "traceback": [
      "\u001b[1;36m  Cell \u001b[1;32mIn[13], line 4\u001b[1;36m\u001b[0m\n\u001b[1;33m    if b:\u001b[0m\n\u001b[1;37m         ^\u001b[0m\n\u001b[1;31mSyntaxError\u001b[0m\u001b[1;31m:\u001b[0m incomplete input\n"
     ]
    }
   ],
   "source": [
    "a=True\n",
    "if a:\n",
    "    print ('a is true')\n",
    "    if b:\n",
    "        Print("
   ]
  },
  {
   "cell_type": "code",
   "execution_count": null,
   "id": "fa8941c0-9738-4843-8601-5a0a17cb7284",
   "metadata": {},
   "outputs": [],
   "source": []
  }
 ],
 "metadata": {
  "kernelspec": {
   "display_name": "Python 3 (ipykernel)",
   "language": "python",
   "name": "python3"
  },
  "language_info": {
   "codemirror_mode": {
    "name": "ipython",
    "version": 3
   },
   "file_extension": ".py",
   "mimetype": "text/x-python",
   "name": "python",
   "nbconvert_exporter": "python",
   "pygments_lexer": "ipython3",
   "version": "3.12.4"
  }
 },
 "nbformat": 4,
 "nbformat_minor": 5
}
