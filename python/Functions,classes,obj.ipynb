{
 "cells": [
  {
   "cell_type": "markdown",
   "id": "3b237203-5e08-4807-8715-4c681625df27",
   "metadata": {},
   "source": [
    "# Functions"
   ]
  },
  {
   "cell_type": "code",
   "execution_count": 1,
   "id": "8e4e147b-6f9c-4e20-a8dc-bc2e706fce13",
   "metadata": {},
   "outputs": [],
   "source": [
    "def add(val1,val2):\n",
    "    return (val1+val2)"
   ]
  },
  {
   "cell_type": "code",
   "execution_count": 2,
   "id": "139c7665-cebc-4347-8c60-fd39522aa852",
   "metadata": {},
   "outputs": [
    {
     "data": {
      "text/plain": [
       "7"
      ]
     },
     "execution_count": 2,
     "metadata": {},
     "output_type": "execute_result"
    }
   ],
   "source": [
    "add(3,4)"
   ]
  },
  {
   "cell_type": "code",
   "execution_count": 13,
   "id": "d7899093-3ea8-4b8d-a5ab-18b087bff63b",
   "metadata": {},
   "outputs": [],
   "source": [
    "a=[1,2,3,]\n",
    "def append(val):\n",
    "    val.append(4)"
   ]
  },
  {
   "cell_type": "code",
   "execution_count": 14,
   "id": "3156c376-a509-4676-8c9a-c4086368b2a6",
   "metadata": {},
   "outputs": [
    {
     "name": "stdout",
     "output_type": "stream",
     "text": [
      "[1, 2, 3, 4]\n"
     ]
    }
   ],
   "source": [
    "append(a)\n",
    "print (a)"
   ]
  },
  {
   "cell_type": "markdown",
   "id": "71e85070-9f7d-447d-a2d7-2bdfa89a42ad",
   "metadata": {},
   "source": [
    "# classes"
   ]
  },
  {
   "cell_type": "code",
   "execution_count": 17,
   "id": "3a699b8c-a870-4ffa-9c31-856bd86c6a9d",
   "metadata": {},
   "outputs": [
    {
     "name": "stdout",
     "output_type": "stream",
     "text": [
      "John(36)\n"
     ]
    }
   ],
   "source": [
    "class Person:\n",
    "  def __init__(self, name, age):\n",
    "    self.name = name\n",
    "    self.age = age\n",
    "\n",
    "  def __str__(self):\n",
    "    return f\"{self.name}({self.age})\"\n",
    "\n",
    "p1 = Person(\"John\", 36)\n",
    "\n",
    "print(p1)"
   ]
  },
  {
   "cell_type": "code",
   "execution_count": 73,
   "id": "c2f76995-268c-42cd-a6e0-3331d06720fe",
   "metadata": {},
   "outputs": [
    {
     "name": "stdout",
     "output_type": "stream",
     "text": [
      "obj\n"
     ]
    }
   ],
   "source": [
    "class cat:\n",
    "    def __init__(self):\n",
    "        print(\"init\")\n",
    "    def speak(self):\n",
    "        print(\"obj\")\n",
    "obj1.speak()"
   ]
  },
  {
   "cell_type": "code",
   "execution_count": 51,
   "id": "a7d4c6cd-8fb0-4086-9193-433bf242ecd5",
   "metadata": {},
   "outputs": [
    {
     "name": "stdout",
     "output_type": "stream",
     "text": [
      "brand: chevy\n",
      "price: 23000\n",
      "year: 2019\n",
      "Location: chi\n"
     ]
    }
   ],
   "source": [
    "class car:\n",
    "    def __init__(self,brand,price,year,location):\n",
    "        self.brand=brand\n",
    "        self.price=price\n",
    "        self.year=year\n",
    "        self.location=location\n",
    "    def display(self):\n",
    "        print(\"brand:\",self.brand)\n",
    "        print('price:',self.price)\n",
    "        print('year:',self.year)\n",
    "        print('Location:',self.location)\n",
    "objc1=car('chevy','23000','2019','chi')\n",
    "objc1.display()\n",
    "        "
   ]
  },
  {
   "cell_type": "code",
   "execution_count": 58,
   "id": "1d73bc17-e354-4762-9198-d97413b04edc",
   "metadata": {},
   "outputs": [
    {
     "name": "stdout",
     "output_type": "stream",
     "text": [
      "name- think and grow rich\n",
      "author- not sure\n",
      "price- 1000\n"
     ]
    }
   ],
   "source": [
    "class book:\n",
    "    def __init__(self,name,author,price):\n",
    "        self.name=name\n",
    "        self.author=author\n",
    "        self.price=price\n",
    "    def info(self):\n",
    "        print('name-',self.name)\n",
    "        print('author-',self.author)\n",
    "        print('price-',self.price)\n",
    "\n",
    "objb1=book('think and grow rich','not sure','1000')\n",
    "objb1.info()"
   ]
  },
  {
   "cell_type": "code",
   "execution_count": 71,
   "id": "57978f27-9b9a-4d7c-bb50-5c487f41e244",
   "metadata": {},
   "outputs": [
    {
     "name": "stdout",
     "output_type": "stream",
     "text": [
      "subject- eng\n",
      "his marks are- 99\n",
      "grade he got is- a\n",
      "-----------------------\n",
      "subject- mat\n",
      "his marks are- 80\n",
      "grade he got is- b\n",
      "-----------------------\n"
     ]
    }
   ],
   "source": [
    "class School:\n",
    "    def __init__(self,sub,marks,grade):\n",
    "        self.sub=sub\n",
    "        self.marks=marks\n",
    "        self.grade=grade\n",
    "    def ravi(self):\n",
    "        print('subject-',self.sub)\n",
    "        print('his marks are-',self.marks)\n",
    "        print('grade he got is-',self.grade)\n",
    "        print('-----------------------')\n",
    "s1=School('eng','99','a')\n",
    "s2=School('mat','80','b')\n",
    "\n",
    "s1.ravi()\n",
    "s2.ravi()\n",
    "\n",
    "\n"
   ]
  },
  {
   "cell_type": "code",
   "execution_count": null,
   "id": "0422d1a0-df3d-4520-9873-91d298d83db5",
   "metadata": {},
   "outputs": [],
   "source": []
  }
 ],
 "metadata": {
  "kernelspec": {
   "display_name": "Python 3 (ipykernel)",
   "language": "python",
   "name": "python3"
  },
  "language_info": {
   "codemirror_mode": {
    "name": "ipython",
    "version": 3
   },
   "file_extension": ".py",
   "mimetype": "text/x-python",
   "name": "python",
   "nbconvert_exporter": "python",
   "pygments_lexer": "ipython3",
   "version": "3.12.4"
  }
 },
 "nbformat": 4,
 "nbformat_minor": 5
}
