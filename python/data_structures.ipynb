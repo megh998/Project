{
 "cells": [
  {
   "cell_type": "markdown",
   "id": "65d6cae8-7a4e-4c6c-b3c7-9affacdd5038",
   "metadata": {
    "jp-MarkdownHeadingCollapsed": true
   },
   "source": [
    "introduction"
   ]
  },
  {
   "cell_type": "code",
   "execution_count": 2,
   "id": "7e81ee24-c3bc-4134-9559-f17866b239b4",
   "metadata": {},
   "outputs": [
    {
     "name": "stdout",
     "output_type": "stream",
     "text": [
      "hello\n"
     ]
    }
   ],
   "source": [
    "print (\"hello\")"
   ]
  },
  {
   "cell_type": "code",
   "execution_count": 17,
   "id": "b179406d-1a6d-4964-a5cf-c19a10918d1c",
   "metadata": {},
   "outputs": [],
   "source": [
    "my_list = [1,2,1,1,1,3,4,[5,6,['a','b']]]"
   ]
  },
  {
   "cell_type": "code",
   "execution_count": 18,
   "id": "e072e4eb-bae9-439b-84c2-7f45d7d5256e",
   "metadata": {},
   "outputs": [
    {
     "name": "stdout",
     "output_type": "stream",
     "text": [
      "[1, 2, 1, 1, 1, 3, 4, [5, 6, ['a', 'b']]]\n"
     ]
    }
   ],
   "source": [
    "print (my_list)"
   ]
  },
  {
   "cell_type": "code",
   "execution_count": 19,
   "id": "184747f8-7e37-4e98-9f7d-6ebba51a6e0e",
   "metadata": {},
   "outputs": [
    {
     "data": {
      "text/plain": [
       "8"
      ]
     },
     "execution_count": 19,
     "metadata": {},
     "output_type": "execute_result"
    }
   ],
   "source": [
    "len(my_list)"
   ]
  },
  {
   "cell_type": "markdown",
   "id": "fe17da18-a634-4e5a-a7c2-360f0edbf768",
   "metadata": {},
   "source": [
    "sets"
   ]
  },
  {
   "cell_type": "code",
   "execution_count": 20,
   "id": "093ff976-ec3e-44a6-8a19-a3058bbf59dd",
   "metadata": {},
   "outputs": [],
   "source": [
    "my_sets = {1,2,3,4,1,1}"
   ]
  },
  {
   "cell_type": "code",
   "execution_count": 21,
   "id": "8c495633-7be9-483d-90c2-27a8d4ded3e2",
   "metadata": {},
   "outputs": [
    {
     "name": "stdout",
     "output_type": "stream",
     "text": [
      "{1, 2, 3, 4}\n"
     ]
    }
   ],
   "source": [
    "print (my_sets)"
   ]
  },
  {
   "cell_type": "markdown",
   "id": "64368bde-0fd3-4934-a14f-e37817527d1b",
   "metadata": {},
   "source": [
    "\n",
    "list can be repetead\n",
    "sets cannot be repetead they are unique\n",
    "list are enclosed witl []\n",
    "sets are enclosed with {}\n",
    "Tuples are enclosed with ()\n",
    "dictionaries are enclosed with {}\n",
    "dictionaries are used for key and value pairs\n"
   ]
  },
  {
   "cell_type": "markdown",
   "id": "82230347-cbd8-488c-a21e-dbab45ff29d8",
   "metadata": {},
   "source": [
    "tuple:\n",
    "They are fixed once initiated we cannot change the size\n"
   ]
  },
  {
   "cell_type": "code",
   "execution_count": 29,
   "id": "331afba1-ae63-4356-a63a-74d9bd0968e9",
   "metadata": {},
   "outputs": [],
   "source": [
    "my_dictionary = {'apple' : 'red fruit',\n",
    "'banana':'yellow fruit',\n",
    "'apple':'some times they are green'\n",
    "}"
   ]
  },
  {
   "cell_type": "code",
   "execution_count": 30,
   "id": "7b131fff-ac5e-403d-8b70-7b0188791fda",
   "metadata": {},
   "outputs": [
    {
     "name": "stdout",
     "output_type": "stream",
     "text": [
      "{'apple': 'some times they are green', 'banana': 'yellow fruit'}\n"
     ]
    }
   ],
   "source": [
    "print (my_dictionary)"
   ]
  },
  {
   "cell_type": "code",
   "execution_count": 31,
   "id": "ffb0864a-9455-47f8-9d7e-eb51ec04b055",
   "metadata": {},
   "outputs": [
    {
     "data": {
      "text/plain": [
       "'some times they are green'"
      ]
     },
     "execution_count": 31,
     "metadata": {},
     "output_type": "execute_result"
    }
   ],
   "source": [
    "my_dictionary['apple']"
   ]
  },
  {
   "cell_type": "code",
   "execution_count": 36,
   "id": "6bc5f263-7532-4cbb-ba8c-069c32323179",
   "metadata": {},
   "outputs": [],
   "source": [
    "m_dictionary ={\n",
    "    'name': 'vikas',\n",
    "    'place':'chicago',\n",
    "    'gender':'Male'\n",
    "}"
   ]
  },
  {
   "cell_type": "code",
   "execution_count": 34,
   "id": "b1b3d58d-ecfa-4fab-89ed-bfaaa6f46cf1",
   "metadata": {},
   "outputs": [
    {
     "data": {
      "text/plain": [
       "'Male'"
      ]
     },
     "execution_count": 34,
     "metadata": {},
     "output_type": "execute_result"
    }
   ],
   "source": [
    "m_dictionary['gender']"
   ]
  },
  {
   "cell_type": "code",
   "execution_count": null,
   "id": "303733f6-41f8-4fe2-bb8c-7f9d1ad656d4",
   "metadata": {},
   "outputs": [],
   "source": []
  },
  {
   "cell_type": "code",
   "execution_count": null,
   "id": "cb938540-eb5c-4af9-a5fb-e43697f4df33",
   "metadata": {},
   "outputs": [],
   "source": []
  }
 ],
 "metadata": {
  "kernelspec": {
   "display_name": "Python 3 (ipykernel)",
   "language": "python",
   "name": "python3"
  },
  "language_info": {
   "codemirror_mode": {
    "name": "ipython",
    "version": 3
   },
   "file_extension": ".py",
   "mimetype": "text/x-python",
   "name": "python",
   "nbconvert_exporter": "python",
   "pygments_lexer": "ipython3",
   "version": "3.12.4"
  }
 },
 "nbformat": 4,
 "nbformat_minor": 5
}
